{
 "cells": [
  {
   "cell_type": "code",
   "execution_count": 194,
   "metadata": {},
   "outputs": [],
   "source": [
    "import matplotlib.pyplot as plt\n",
    "from scipy import stats\n",
    "import numpy as np"
   ]
  },
  {
   "cell_type": "code",
   "execution_count": 368,
   "metadata": {},
   "outputs": [],
   "source": [
    "def getContent(filepath):\n",
    "    lines = []\n",
    "    for l in open(filepath):\n",
    "        lines.append(float(l))\n",
    "        \n",
    "    return lines\n",
    "\n",
    "def get_history(func, algcode):\n",
    "    return getContent(algcode + \"_\"+ func +\"_fo_file.dat\")\n",
    "\n",
    "def is_normal(data, test = \"shapiro\"):\n",
    "    if test == \"shapiro\":\n",
    "        return stats.shapiro(c_grasp).pvalue > .05\n",
    "    else:\n",
    "        stats.kstest(c_grasp, 'norm').pvalue > .05\n",
    "        \n",
    "def there_is_difference(before, after):\n",
    "    return stats.wilcoxon(before, after).pvalue < .05"
   ]
  },
  {
   "cell_type": "code",
   "execution_count": 227,
   "metadata": {},
   "outputs": [],
   "source": [
    "func = \"POWERSUM4\"\n",
    "c_grasp = get_history(func, \"c\")\n",
    "dmc_grasp = get_history(func, \"dmc\")\n",
    "xdmc_grasp = get_history(func, \"xdmc\")\n",
    "mxdmc_grasp = get_history(func, \"mxdmc\")\n",
    "rmxdmc_grasp = get_history(func, \"rmxdmc\")\n",
    "amxdmc_grasp = get_history(func, \"amxdmc\")"
   ]
  },
  {
   "cell_type": "code",
   "execution_count": 326,
   "metadata": {},
   "outputs": [
    {
     "data": {
      "text/plain": [
       "0.4174403049093858"
      ]
     },
     "execution_count": 326,
     "metadata": {},
     "output_type": "execute_result"
    }
   ],
   "source": [
    "stats.wilcoxon(c_grasp, xdmc_grasp).pvalue"
   ]
  },
  {
   "cell_type": "code",
   "execution_count": 238,
   "metadata": {},
   "outputs": [
    {
     "data": {
      "text/plain": [
       "True"
      ]
     },
     "execution_count": 238,
     "metadata": {},
     "output_type": "execute_result"
    }
   ],
   "source": [
    "is_normal(c_grasp)"
   ]
  },
  {
   "cell_type": "code",
   "execution_count": 228,
   "metadata": {},
   "outputs": [
    {
     "name": "stdout",
     "output_type": "stream",
     "text": [
      "# Normality tests #\n",
      "C-GRASP:\n",
      "ShapiroResult(statistic=0.8361560702323914, pvalue=0.00032239637221209705)\n",
      "KstestResult(statistic=0.5000031774994643, pvalue=1.8463282995112453e-07)\n",
      "\n",
      "DMC-GRASP:\n",
      "ShapiroResult(statistic=0.6590397357940674, pvalue=4.167292217971408e-07)\n",
      "KstestResult(statistic=0.5000123246435492, pvalue=1.845169499057047e-07)\n",
      "\n",
      "XDMC-GRASP:\n",
      "ShapiroResult(statistic=0.6590397357940674, pvalue=4.167292217971408e-07)\n",
      "KstestResult(statistic=0.5000123246435492, pvalue=1.845169499057047e-07)\n",
      "\n",
      "MXDMC-GRASP:\n",
      "ShapiroResult(statistic=0.9282899498939514, pvalue=0.04423544928431511)\n",
      "KstestResult(statistic=0.5000112714758236, pvalue=1.8453028833235427e-07)\n",
      "\n",
      "RMXDMC-GRASP:\n",
      "ShapiroResult(statistic=0.549037516117096, pvalue=1.8402378287873944e-08)\n",
      "KstestResult(statistic=0.5000031774994643, pvalue=1.8463282995112453e-07)\n",
      "\n",
      "AMXDMC-GRASP:\n",
      "ShapiroResult(statistic=0.6261543035507202, pvalue=1.5459777102933003e-07)\n",
      "KstestResult(statistic=0.5000031774994643, pvalue=1.8463282995112453e-07)\n"
     ]
    }
   ],
   "source": [
    "print(\"# Normality tests #\")\n",
    "print(\"C-GRASP:\")\n",
    "print(stats.shapiro(c_grasp))\n",
    "print(stats.kstest(c_grasp, 'norm'))\n",
    "\n",
    "print()\n",
    "print(\"DMC-GRASP:\")\n",
    "print(stats.shapiro(xdmc_grasp))\n",
    "print(stats.kstest(xdmc_grasp, 'norm'))\n",
    "\n",
    "print()\n",
    "print(\"XDMC-GRASP:\")\n",
    "print(stats.shapiro(xdmc_grasp))\n",
    "print(stats.kstest(xdmc_grasp, 'norm'))\n",
    "\n",
    "print()\n",
    "print(\"MXDMC-GRASP:\")\n",
    "print(stats.shapiro(mxdmc_grasp))\n",
    "print(stats.kstest(mxdmc_grasp, 'norm'))\n",
    "\n",
    "print()\n",
    "print(\"RMXDMC-GRASP:\")\n",
    "print(stats.shapiro(rmxdmc_grasp))\n",
    "print(stats.kstest(rmxdmc_grasp, 'norm'))\n",
    "\n",
    "print()\n",
    "print(\"AMXDMC-GRASP:\")\n",
    "print(stats.shapiro(amxdmc_grasp))\n",
    "print(stats.kstest(amxdmc_grasp, 'norm'))"
   ]
  },
  {
   "cell_type": "code",
   "execution_count": 199,
   "metadata": {},
   "outputs": [
    {
     "name": "stdout",
     "output_type": "stream",
     "text": [
      "média c-grasp = 0.0003759608111\n",
      "média dmc-grasp = 0.0006257074991\n",
      "Ttest_relResult(statistic=-3.014698584432105, pvalue=0.003267650515754514)\n"
     ]
    }
   ],
   "source": [
    "print(f\"média c-grasp = {np.mean(c_grasp)}\")\n",
    "print(f\"média dmc-grasp = {np.mean(dmc_grasp)}\")\n",
    "print(stats.ttest_rel(c_grasp, dmc_grasp))"
   ]
  },
  {
   "cell_type": "code",
   "execution_count": 200,
   "metadata": {},
   "outputs": [
    {
     "name": "stdout",
     "output_type": "stream",
     "text": [
      "média c-grasp = 0.0003759608111\n",
      "média xdmc-grasp = 0.000426005848\n",
      "Ttest_relResult(statistic=-0.9361536095571669, pvalue=0.3514721352480693)\n"
     ]
    }
   ],
   "source": [
    "print(f\"média c-grasp = {np.mean(c_grasp)}\")\n",
    "print(f\"média xdmc-grasp = {np.mean(xdmc_grasp)}\")\n",
    "print(stats.ttest_rel(c_grasp, xdmc_grasp))"
   ]
  },
  {
   "cell_type": "code",
   "execution_count": 201,
   "metadata": {},
   "outputs": [
    {
     "name": "stdout",
     "output_type": "stream",
     "text": [
      "média c-grasp = 0.0003759608111\n",
      "média mxdmc-grasp = 0.000516215161\n",
      "Ttest_relResult(statistic=-1.7975842795347667, pvalue=0.07529144075061572)\n"
     ]
    }
   ],
   "source": [
    "print(f\"média c-grasp = {np.mean(c_grasp)}\")\n",
    "print(f\"média mxdmc-grasp = {np.mean(mxdmc_grasp)}\")\n",
    "print(stats.ttest_rel(c_grasp, mxdmc_grasp))"
   ]
  },
  {
   "cell_type": "code",
   "execution_count": 202,
   "metadata": {},
   "outputs": [
    {
     "name": "stdout",
     "output_type": "stream",
     "text": [
      "média c-grasp = 0.0003759608111\n",
      "média rmxdmc-grasp = 0.0003916679881\n",
      "Ttest_relResult(statistic=-0.3713107003512436, pvalue=0.7111995757845351)\n"
     ]
    }
   ],
   "source": [
    "print(f\"média c-grasp = {np.mean(c_grasp)}\")\n",
    "print(f\"média rmxdmc-grasp = {np.mean(rmxdmc_grasp)}\")\n",
    "print(stats.ttest_rel(c_grasp, rmxdmc_grasp))"
   ]
  },
  {
   "cell_type": "code",
   "execution_count": 242,
   "metadata": {},
   "outputs": [],
   "source": [
    "def print_result_line(func, adversary):\n",
    "    c_grasp = get_history(func, \"c\")\n",
    "    adv_grasp = get_history(func, adversary)\n",
    "    print(f\"| {func} | {get_formated_mean(c_grasp)} |  {get_formated_mean(adv_grasp)}  | {stats.ttest_rel(c_grasp, adv_grasp).pvalue} |\")\n",
    "    \n",
    "    \n",
    "def print_comparsion(func, adversarylist):\n",
    "    c_grasp = get_history(func, \"c\")\n",
    "    print(f\"| {func} | {get_formated_mean(c_grasp)} |\", end=\"\")\n",
    "    for adversary in adversarylist:\n",
    "        adv_grasp = get_history(func, adversary)\n",
    "        print(f\" {get_formated_mean(adv_grasp)} |\", end=\"\")\n",
    "    print(\"\\n\")"
   ]
  },
  {
   "cell_type": "code",
   "execution_count": 243,
   "metadata": {},
   "outputs": [
    {
     "name": "stdout",
     "output_type": "stream",
     "text": [
      "|  func     |       C-GRASP   |     DMC-GRASP   |        p-value      |\n",
      "| SHEKEL45 | \u001b[1m-9.980910000000002 |  \u001b[1m-9.98219  | 0.9958173862899212 |\n",
      "| SHEKEL47 | \u001b[1m-10.398943333333333 |  \u001b[1m-10.400393333333332  | 0.0017924767368562669 |\n",
      "| POWERSUM4 | \u001b[1m0.0003858706303333333 |  \u001b[1m0.000621740017  | 0.075297862446551 |\n"
     ]
    }
   ],
   "source": [
    "adversary = \"amxdmc\"\n",
    "print(f\"|  func     |       C-GRASP   |     DMC-GRASP   |        p-value      |\")\n",
    "print_result_line(\"SHEKEL45\", adversary)\n",
    "print_result_line(\"SHEKEL47\", adversary)\n",
    "print_result_line(\"POWERSUM4\", adversary)"
   ]
  },
  {
   "cell_type": "code",
   "execution_count": 373,
   "metadata": {},
   "outputs": [],
   "source": [
    "funcs = [\"BOHACHEVSKY2\", \"GOLDSTEINPRICE2\", \"COLVILLE4\", \"POWERSUM4\", \"SHEKEL45\", \"SHEKEL47\", \"SHEKEL410\", \"PERM4\", \"PERM04\", \"ROSENBROCK5\", \"HARTMANN6\", \"ROSENBROCK10\", \"GRIEWANK10\", \"ROSENBROCK20\", \"GRIEWANK20\", \"ACKLEY30\"]"
   ]
  },
  {
   "cell_type": "code",
   "execution_count": 245,
   "metadata": {},
   "outputs": [
    {
     "name": "stdout",
     "output_type": "stream",
     "text": [
      "|  func     |       C-GRASP   |     DMC-GRASP   |        p-value      |\n",
      "| BOHACHEVSKY2 | \u001b[1m5.939401766666667e-05 |  \u001b[1m8.839318066666668e-05  | 0.2403824978281383 |\n",
      "| GOLDSTEINPRICE2 | \u001b[1m3.001740666666667 |  \u001b[1m3.0003796666666664  | 2.6425322170145113e-06 |\n",
      "| COLVILLE4 | \u001b[1m0.0004594508833333333 |  \u001b[1m0.00020046575999999998  | 3.747964652160005e-05 |\n",
      "| POWERSUM4 | \u001b[1m0.0003858706303333333 |  \u001b[1m0.0007031143336666666  | 0.007288779758771523 |\n",
      "| SHEKEL45 | \u001b[1m-9.980910000000002 |  \u001b[1m-9.901307999999997  | 0.796128120695855 |\n",
      "| SHEKEL47 | \u001b[1m-10.398943333333333 |  \u001b[1m-10.223102333333333  | 0.3290503474318045 |\n",
      "| SHEKEL410 | \u001b[1m-10.531966666666666 |  \u001b[1m-9.993759  | 0.084361218510675 |\n",
      "| ROSENBROCK5 | \u001b[1m0.022597638666666663 |  \u001b[1m0.023065526333333326  | 0.9237942468501494 |\n",
      "| HARTMANN6 | \u001b[1m-3.3218970000000003 |  \u001b[1m-3.322116666666666  | 1.7506315269740816e-07 |\n",
      "| ROSENBROCK10 | \u001b[1m0.06093327333333334 |  \u001b[1m0.061260610000000014  | 0.9868182755585463 |\n",
      "| PERM4 | \u001b[1m0.008859449333333332 |  \u001b[1m0.008433880666666668  | 0.6698839472453366 |\n",
      "| PERM04 | \u001b[1m0.008859449333333332 |  \u001b[1m0.008433880666666668  | 0.6698839472453366 |\n",
      "| GRIEWANK10 | \u001b[1m0.005618442046666668 |  \u001b[1m3.177258e-05  | 8.091817231682364e-05 |\n",
      "| ROSENBROCK20 | \u001b[1m0.09634833 |  \u001b[1m0.10589359999999999  | 0.39718087645310773 |\n",
      "| GRIEWANK20 | \u001b[1m0.009056299303333333 |  \u001b[1m3.679988666666667e-05  | 0.0003344021976184342 |\n",
      "| ACKLEY30 | \u001b[1m0.011033959000000003 |  \u001b[1m0.005817591333333333  | 1.2607102524281303e-26 |\n"
     ]
    }
   ],
   "source": [
    "adversary = \"dmc\"\n",
    "print(f\"|  func     |       C-GRASP   |     DMC-GRASP   |        p-value      |\")\n",
    "for f in funcs:\n",
    "    print_result_line(f, adversary)"
   ]
  },
  {
   "cell_type": "code",
   "execution_count": 207,
   "metadata": {},
   "outputs": [],
   "source": [
    "def save_comparion(adversary, filepath):\n",
    "    with open(filepath, \"w\") as f:\n",
    "        f.write(f\"func; C-GRASP; {adversary.upper()}-GRASP; p-value\\n\")\n",
    "        for func in funcs:\n",
    "            c_grasp = get_history(func, \"c\")\n",
    "            adv_grasp = get_history(func, adversary)\n",
    "            f.write(f\"{func};{np.mean(c_grasp)};{np.mean(adv_grasp)};{stats.ttest_rel(c_grasp, adv_grasp).pvalue}\\n\")"
   ]
  },
  {
   "cell_type": "code",
   "execution_count": 208,
   "metadata": {},
   "outputs": [],
   "source": [
    "save_comparion(\"amxdmc\", \"amxdmc.csv\")"
   ]
  },
  {
   "cell_type": "code",
   "execution_count": 209,
   "metadata": {},
   "outputs": [
    {
     "ename": "PermissionError",
     "evalue": "[Errno 13] Permission denied: 'dmc.csv'",
     "output_type": "error",
     "traceback": [
      "\u001b[1;31m---------------------------------------------------------------------------\u001b[0m",
      "\u001b[1;31mPermissionError\u001b[0m                           Traceback (most recent call last)",
      "\u001b[1;32m<ipython-input-209-916ae6c84228>\u001b[0m in \u001b[0;36m<module>\u001b[1;34m\u001b[0m\n\u001b[1;32m----> 1\u001b[1;33m \u001b[0msave_comparion\u001b[0m\u001b[1;33m(\u001b[0m\u001b[1;34m\"dmc\"\u001b[0m\u001b[1;33m,\u001b[0m \u001b[1;34m\"dmc.csv\"\u001b[0m\u001b[1;33m)\u001b[0m\u001b[1;33m\u001b[0m\u001b[1;33m\u001b[0m\u001b[0m\n\u001b[0m",
      "\u001b[1;32m<ipython-input-207-e7552915f7c6>\u001b[0m in \u001b[0;36msave_comparion\u001b[1;34m(adversary, filepath)\u001b[0m\n\u001b[0;32m      1\u001b[0m \u001b[1;32mdef\u001b[0m \u001b[0msave_comparion\u001b[0m\u001b[1;33m(\u001b[0m\u001b[0madversary\u001b[0m\u001b[1;33m,\u001b[0m \u001b[0mfilepath\u001b[0m\u001b[1;33m)\u001b[0m\u001b[1;33m:\u001b[0m\u001b[1;33m\u001b[0m\u001b[1;33m\u001b[0m\u001b[0m\n\u001b[1;32m----> 2\u001b[1;33m     \u001b[1;32mwith\u001b[0m \u001b[0mopen\u001b[0m\u001b[1;33m(\u001b[0m\u001b[0mfilepath\u001b[0m\u001b[1;33m,\u001b[0m \u001b[1;34m\"w\"\u001b[0m\u001b[1;33m)\u001b[0m \u001b[1;32mas\u001b[0m \u001b[0mf\u001b[0m\u001b[1;33m:\u001b[0m\u001b[1;33m\u001b[0m\u001b[1;33m\u001b[0m\u001b[0m\n\u001b[0m\u001b[0;32m      3\u001b[0m         \u001b[0mf\u001b[0m\u001b[1;33m.\u001b[0m\u001b[0mwrite\u001b[0m\u001b[1;33m(\u001b[0m\u001b[1;34mf\"func; C-GRASP; {adversary.upper()}-GRASP; p-value\\n\"\u001b[0m\u001b[1;33m)\u001b[0m\u001b[1;33m\u001b[0m\u001b[1;33m\u001b[0m\u001b[0m\n\u001b[0;32m      4\u001b[0m         \u001b[1;32mfor\u001b[0m \u001b[0mfunc\u001b[0m \u001b[1;32min\u001b[0m \u001b[0mfuncs\u001b[0m\u001b[1;33m:\u001b[0m\u001b[1;33m\u001b[0m\u001b[1;33m\u001b[0m\u001b[0m\n\u001b[0;32m      5\u001b[0m             \u001b[0mc_grasp\u001b[0m \u001b[1;33m=\u001b[0m \u001b[0mget_history\u001b[0m\u001b[1;33m(\u001b[0m\u001b[0mfunc\u001b[0m\u001b[1;33m,\u001b[0m \u001b[1;34m\"c\"\u001b[0m\u001b[1;33m)\u001b[0m\u001b[1;33m\u001b[0m\u001b[1;33m\u001b[0m\u001b[0m\n",
      "\u001b[1;31mPermissionError\u001b[0m: [Errno 13] Permission denied: 'dmc.csv'"
     ]
    }
   ],
   "source": [
    "save_comparion(\"dmc\", \"dmc.csv\")"
   ]
  },
  {
   "cell_type": "code",
   "execution_count": 163,
   "metadata": {},
   "outputs": [],
   "source": [
    "save_comparion(\"xdmc\", \"xdmc.csv\")"
   ]
  },
  {
   "cell_type": "code",
   "execution_count": 221,
   "metadata": {},
   "outputs": [
    {
     "name": "stdout",
     "output_type": "stream",
     "text": [
      "| SHEKEL45 | -9.980910000000002 | -9.901307999999997 | -9.067950999999999 | -8.569854666666664 | -9.733697999999999 | -9.981539999999999 |\n",
      "\n"
     ]
    }
   ],
   "source": [
    "print_comparsion(\"SHEKEL45\", [\"dmc\", \"xdmc\", \"mxdmc\", \"rmxdmc\", \"amxdmc\"])"
   ]
  },
  {
   "cell_type": "code",
   "execution_count": 374,
   "metadata": {},
   "outputs": [],
   "source": [
    "def get_formated_mean(data):\n",
    "    mean = np.mean(data)\n",
    "    if (is_normal(data)):\n",
    "        return '\\\\textbf{' + str(mean) + '}'\n",
    "    else:\n",
    "        return str(mean)\n",
    "    \n",
    "def construct_table(adversarylist):\n",
    "    table = {}\n",
    "    \n",
    "    for func in funcs:\n",
    "        table[func] = []\n",
    "        for adversary in adversarylist:\n",
    "            table[func].append(np.mean(get_history(func, adversary)))\n",
    "    \n",
    "    return table\n",
    "\n",
    "def bold_best(v, best):\n",
    "    if v==best:\n",
    "        return \"\\\\textbf{\" + \"{:.4e}\".format(v) + \"}\"\n",
    "    else:\n",
    "        return \" {:.4e}\".format(v)\n",
    "    \n",
    "def is_stats_different(func, alg1, alg2):\n",
    "    return there_is_difference(get_history(func, alg1), get_history(func, alg2))\n",
    " \n",
    "def is_better_than_cgrasp(v, c):\n",
    "    return v<c\n",
    "\n",
    "def underline(original_str):\n",
    "    return \"\\\\underline{\" + original_str + \"}\"\n",
    "\n",
    "def underline_better_than_cgrasp(original_str, v, c):\n",
    "    if v<c:\n",
    "        return \"\\\\underline{\" + original_str + \"}\"\n",
    "    else:\n",
    "        return original_str\n",
    "    \n",
    "def save_comparison_latex(adversarylist):\n",
    "    filepath = \"comparison.tex\"\n",
    "    with open(filepath, \"w\") as f:\n",
    "        f.write(\"\\\\begin{table}[]\\n\")\n",
    "        f.write(\"\\\\begin{tabular}{|c|c|c|c|c|c|c|}\\n\")\n",
    "        f.write(\"\\hline\\n\")\n",
    "        \n",
    "        f.write(\" $f$ & C-GRASP\")\n",
    "        for adversary in adversarylist:\n",
    "            f.write(f\" & {adversary.upper()}-GRASP\")\n",
    "        f.write(f\"\\\\\\\\ \\hline \\n\")\n",
    "        \n",
    "        alglist = [\"c\"] + adversarylist\n",
    "        table = construct_table(alglist)\n",
    "        for key in table:\n",
    "            f.write(f\"{key.upper()}\")\n",
    "            best = min(table[key])\n",
    "            c = table[key][0]\n",
    "            i = 0\n",
    "            for v in table[key]:\n",
    "                text = bold_best(v, best)\n",
    "                if is_better_than_cgrasp(v, c):\n",
    "                    text = underline(text)\n",
    "                    if i > 0 and is_stats_different(key, \"c\", adversarylist[i-1]):\n",
    "                        text += \"* \"\n",
    "                \n",
    "                f.write(\" & \" + text)\n",
    "                i+=1\n",
    "                \n",
    "            f.write(f\"\\\\\\\\  \\n\")\n",
    "        f.write(f\"\\hline  \\n\")    \n",
    "        f.write(\"\\end{tabular}\\n\")\n",
    "        f.write(\"\\end{table}\\n\")\n",
    "\n",
    "def save_comparison(adversarylist):\n",
    "    filepath = \"comparison.csv\"\n",
    "    with open(filepath, \"w\") as f:\n",
    "        f.write(f\"func; C-GRASP\")\n",
    "        for adversary in adversarylist:\n",
    "            f.write(f\";{adversary.upper()}-GRASP\")\n",
    "        f.write(f\"\\n\")\n",
    "        for func in funcs:\n",
    "            f.write(f\"{func.upper()}\")\n",
    "            c_grasp = get_history(func, \"c\")\n",
    "            f.write(f\";{np.mean(c_grasp)}\")\n",
    "            for adversary in adversarylist:\n",
    "                adv_grasp = get_history(func, adversary)\n",
    "                f.write(f\";{np.mean(adv_grasp)}\")\n",
    "            f.write(f\"\\n\")"
   ]
  },
  {
   "cell_type": "code",
   "execution_count": 375,
   "metadata": {},
   "outputs": [],
   "source": [
    "save_comparion_latex(adversarylist)"
   ]
  },
  {
   "cell_type": "code",
   "execution_count": 337,
   "metadata": {},
   "outputs": [],
   "source": [
    "adversarylist = [\"dmc\", \"xdmc\", \"mxdmc\", \"rmxdmc\", \"amxdmc\"]\n",
    "save_comparion(adversarylist)"
   ]
  },
  {
   "cell_type": "code",
   "execution_count": 328,
   "metadata": {},
   "outputs": [],
   "source": [
    "table = construct_table(adversarylist)"
   ]
  },
  {
   "cell_type": "code",
   "execution_count": 293,
   "metadata": {},
   "outputs": [
    {
     "name": "stdout",
     "output_type": "stream",
     "text": [
      "BOHACHEVSKY2 [5.939401766666667e-05, 8.839318066666668e-05, 9.088222626666666e-05, 0.00012659701979999999, 9.186063166666668e-05, 7.586963566666667e-05]\n",
      "GOLDSTEINPRICE2 [3.001740666666667, 3.0003796666666664, 3.0015903333333336, 3.001445, 3.001506666666667, 3.000311000000001]\n",
      "COLVILLE4 [0.0004594508833333333, 0.00020046575999999998, 0.0004894114066666665, 0.0004407472766666667, 0.0004914383066666666, 0.0002548799233333333]\n",
      "POWERSUM4 [0.0003858706303333333, 0.0007031143336666666, 0.0004703168166666667, 0.0003227023899999999, 0.0005306877769999999, 0.000621740017]\n",
      "SHEKEL45 [-9.980910000000002, -9.901307999999997, -9.067950999999999, -8.569854666666664, -9.90220133333333, -9.98219]\n",
      "SHEKEL47 [-10.398943333333333, -10.223102333333333, -9.700415333333332, -9.524858333333333, -10.401060000000001, -10.400393333333332]\n",
      "SHEKEL410 [-10.531966666666666, -9.993759, -8.798118333333333, -9.062489666666664, -10.130981666666665, -10.533366666666668]\n",
      "ROSENBROCK5 [0.022597638666666663, 0.023065526333333326, 0.006371596100000001, 0.008773038333333334, 0.011201673333333335, 0.014139895500000003]\n",
      "HARTMANN6 [-3.3218970000000003, -3.322116666666666, -3.3220463333333328, -3.322005, -3.3221426666666662, -3.3221206666666663]\n",
      "ROSENBROCK10 [0.06093327333333334, 0.061260610000000014, 0.06449447366666668, 0.13559185033333335, 0.033287343000000004, 0.039672139666666675]\n",
      "PERM4 [0.008859449333333332, 0.008433880666666668, 0.06933797066666667, 0.13755042400000006, 0.08298929833333334, 0.009824504333333333]\n",
      "PERM04 [0.008859449333333332, 0.008433880666666668, 0.06933797066666667, 0.13755042400000006, 0.08298929833333334, 0.009824504333333333]\n",
      "GRIEWANK10 [0.005618442046666668, 3.177258e-05, 5.2173283333333334e-05, 5.5774980000000006e-05, 4.855693666666667e-05, 0.0011136646866666668]\n",
      "ROSENBROCK20 [0.09634833, 0.10589359999999999, 0.4161044033333333, 0.38106973, 0.07054640999999999, 0.07889339666666666]\n",
      "GRIEWANK20 [0.009056299303333333, 3.679988666666667e-05, 0.0014525433533333332, 6.567907333333332e-05, 0.0008809207516666666, 0.003086160939999999]\n",
      "ACKLEY30 [0.011033959000000003, 0.005817591333333333, 0.007103343666666666, 0.0068516923333333335, 0.006066062999999998, 0.005545818999999999]\n"
     ]
    }
   ],
   "source": [
    "for row in table:\n",
    "    print(row, table[row])"
   ]
  },
  {
   "cell_type": "code",
   "execution_count": null,
   "metadata": {},
   "outputs": [],
   "source": []
  }
 ],
 "metadata": {
  "kernelspec": {
   "display_name": "Python 3",
   "language": "python",
   "name": "python3"
  },
  "language_info": {
   "codemirror_mode": {
    "name": "ipython",
    "version": 3
   },
   "file_extension": ".py",
   "mimetype": "text/x-python",
   "name": "python",
   "nbconvert_exporter": "python",
   "pygments_lexer": "ipython3",
   "version": "3.8.3"
  }
 },
 "nbformat": 4,
 "nbformat_minor": 4
}
